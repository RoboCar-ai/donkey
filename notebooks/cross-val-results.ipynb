{
 "cells": [
  {
   "cell_type": "code",
   "execution_count": 11,
   "metadata": {},
   "outputs": [
    {
     "name": "stdout",
     "output_type": "stream",
     "text": [
      "../d2/models/KerasAppInceptionV3Loc1024-cross-val-fold-4.json\n",
      "result: 7.124028029229148\n",
      "../d2/models/KerasAppInceptionV3Loc1024-cross-val-fold-2.json\n",
      "result: 0.9301583202550068\n",
      "../d2/models/KerasAppInceptionV3Loc1024-cross-val-fold-0.json\n",
      "result: 0.6358017694366133\n",
      "../d2/models/KerasAppInceptionV3Loc1024-cross-val-fold-1.json\n",
      "result: 1.1450609791266662\n",
      "../d2/models/KerasAppInceptionV3Loc1024-cross-val-fold-3.json\n",
      "result: 1.0649916873442546\n"
     ]
    }
   ],
   "source": [
    "import json\n",
    "import glob\n",
    "\n",
    "results = glob.glob('../d2/models/KerasA*.json')\n",
    "\n",
    "for result in results:\n",
    "    with open(result, 'r') as f:\n",
    "        data = json.loads(f.read())\n",
    "    print(result)\n",
    "    print('result:', min(data['val_loss']))"
   ]
  }
 ],
 "metadata": {
  "kernelspec": {
   "display_name": "Python 3",
   "language": "python",
   "name": "python3"
  },
  "language_info": {
   "codemirror_mode": {
    "name": "ipython",
    "version": 3
   },
   "file_extension": ".py",
   "mimetype": "text/x-python",
   "name": "python",
   "nbconvert_exporter": "python",
   "pygments_lexer": "ipython3",
   "version": "3.6.7"
  }
 },
 "nbformat": 4,
 "nbformat_minor": 2
}
